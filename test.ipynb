{
 "cells": [
  {
   "cell_type": "code",
   "execution_count": 1,
   "metadata": {},
   "outputs": [],
   "source": [
    "import pymongo\n",
    "from pymongo import MongoClient\n",
    "from pprint import pprint\n",
    "\n",
    "def db_import():\n",
    "    client = MongoClient('localhost', 27017) #remplacer par les id du mongos\n",
    "    db = client.Test_grants\n",
    "    return db\n",
    "\n",
    "def query1(name,award_title,award_id,db):\n",
    "    pipeline = [\n",
    "\t\t{\n",
    "\t\t\t\"$match\": {\n",
    "\t\t\t    'name':name\n",
    "\t\t\t}\n",
    "\t\t},\n",
    "\t\t{\n",
    "\t\t\t\"$unwind\": {\n",
    "\t\t\t    \"path\": '$awards'\n",
    "\t\t\t}\n",
    "\t\t},\n",
    "\t\t{\n",
    "\t\t\t\"$match\": {\n",
    "\t\t\t    'awards.award_title':award_title,\n",
    "\t\t\t    'awards.award_id':award_id\n",
    "\t\t\t    \n",
    "\t\t\t}\n",
    "\t\t},\n",
    "\t\t{\n",
    "\t\t\t\"$project\": {\n",
    "\t\t\t    'awards.investigators':1\n",
    "\t\t\t    \n",
    "\t\t\t}\n",
    "\t\t}\n",
    "\t]\n",
    "\n",
    "    return list(db.main_collection.aggregate(pipeline))"
   ]
  },
  {
   "cell_type": "code",
   "execution_count": 3,
   "metadata": {},
   "outputs": [
    {
     "name": "stdout",
     "output_type": "stream",
     "text": [
      "[{'_id': ObjectId('61c8b99d30381a3434eb6b63'),\n",
      "  'awards': {'investigators': [{'email_id': 'alexandra.bisker@gsa.gov',\n",
      "                                'first_name': 'Alexandra',\n",
      "                                'last_name': 'Bisker'}]}}]\n"
     ]
    }
   ],
   "source": [
    "db = db_import()\n",
    "pprint(query1('18F GSA','IIP Website Redesign Cloud.gov',1708471,db))"
   ]
  }
 ],
 "metadata": {
  "interpreter": {
   "hash": "63fd5069d213b44bf678585dea6b12cceca9941eaf7f819626cde1f2670de90d"
  },
  "kernelspec": {
   "display_name": "Python 3.9.0 64-bit",
   "language": "python",
   "name": "python3"
  },
  "language_info": {
   "codemirror_mode": {
    "name": "ipython",
    "version": 3
   },
   "file_extension": ".py",
   "mimetype": "text/x-python",
   "name": "python",
   "nbconvert_exporter": "python",
   "pygments_lexer": "ipython3",
   "version": "3.9.0"
  },
  "orig_nbformat": 4
 },
 "nbformat": 4,
 "nbformat_minor": 2
}
